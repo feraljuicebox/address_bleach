{
 "cells": [
  {
   "cell_type": "code",
   "execution_count": 1,
   "metadata": {},
   "outputs": [],
   "source": [
    "import address_bleach as ab"
   ]
  },
  {
   "cell_type": "code",
   "execution_count": 2,
   "metadata": {},
   "outputs": [
    {
     "name": "stdout",
     "output_type": "stream",
     "text": [
      "Raw Address: 123 Main Street South\n",
      "Raw City: Seattle\n",
      "Raw State: WA\n",
      "Raw Zip: 98039\n",
      "Po Box?: False\n",
      "Grid ID: \n",
      "Street Block: \n",
      "Street Number: 123\n",
      "Street Body: Main\n",
      "Street Suffix: ST\n",
      "Street Directional: S\n",
      "Street Suite Number: \n",
      "PO Box Number: \n"
     ]
    }
   ],
   "source": [
    "addr1 = ab.Address('123 Main Street South', 'Seattle', 'WA', '98039')\n",
    "print(addr1)"
   ]
  },
  {
   "cell_type": "code",
   "execution_count": 3,
   "metadata": {},
   "outputs": [
    {
     "name": "stdout",
     "output_type": "stream",
     "text": [
      "Raw Address: 123B Main ST S\n",
      "Raw City: Seattle\n",
      "Raw State: WA\n",
      "Raw Zip: 98039\n",
      "Po Box?: False\n",
      "Grid ID: \n",
      "Street Block: \n",
      "Street Number: 123\n",
      "Street Body: Main\n",
      "Street Suffix: ST\n",
      "Street Directional: S\n",
      "Street Suite Number: B\n",
      "PO Box Number: \n"
     ]
    }
   ],
   "source": [
    "addr2 = ab.Address('123B Main ST S', 'Seattle', 'WA', '98039')\n",
    "print(addr2)"
   ]
  },
  {
   "cell_type": "code",
   "execution_count": 4,
   "metadata": {},
   "outputs": [
    {
     "name": "stdout",
     "output_type": "stream",
     "text": [
      "Raw Address: 123-B Main ST S\n",
      "Raw City: Seattle\n",
      "Raw State: WA\n",
      "Raw Zip: 98039\n",
      "Po Box?: False\n",
      "Grid ID: \n",
      "Street Block: \n",
      "Street Number: 123\n",
      "Street Body: Main\n",
      "Street Suffix: ST\n",
      "Street Directional: S\n",
      "Street Suite Number: B\n",
      "PO Box Number: \n"
     ]
    }
   ],
   "source": [
    "addr3 = ab.Address('123-B Main ST S', 'Seattle', 'WA', '98039')\n",
    "print(addr3)"
   ]
  },
  {
   "cell_type": "code",
   "execution_count": 5,
   "metadata": {},
   "outputs": [
    {
     "name": "stdout",
     "output_type": "stream",
     "text": [
      "Raw Address: 110-10 Main ST S\n",
      "Raw City: Seattle\n",
      "Raw State: WA\n",
      "Raw Zip: 98039\n",
      "Po Box?: False\n",
      "Grid ID: \n",
      "Street Block: 110-10\n",
      "Street Number: \n",
      "Street Body: Main\n",
      "Street Suffix: ST\n",
      "Street Directional: S\n",
      "Street Suite Number: \n",
      "PO Box Number: \n"
     ]
    }
   ],
   "source": [
    "addr4 = ab.Address('110-10 Main ST S', 'Seattle', 'WA', '98039')\n",
    "print(addr4)"
   ]
  },
  {
   "cell_type": "code",
   "execution_count": 6,
   "metadata": {},
   "outputs": [
    {
     "name": "stdout",
     "output_type": "stream",
     "text": [
      "Raw Address: 39.2 RD S\n",
      "Raw City: Seattle\n",
      "Raw State: WA\n",
      "Raw Zip: 98039\n",
      "Po Box?: False\n",
      "Grid ID: 39.2\n",
      "Street Block: \n",
      "Street Number: \n",
      "Street Body: \n",
      "Street Suffix: RD\n",
      "Street Directional: S\n",
      "Street Suite Number: \n",
      "PO Box Number: \n"
     ]
    }
   ],
   "source": [
    "addr5 = ab.Address('39.2 RD S', 'Seattle', 'WA', '98039')\n",
    "print(addr5)\n"
   ]
  },
  {
   "cell_type": "code",
   "execution_count": 7,
   "metadata": {},
   "outputs": [
    {
     "name": "stdout",
     "output_type": "stream",
     "text": [
      "Raw Address: N6W23001 BLUEMOUND RD\n",
      "Raw City: Seattle\n",
      "Raw State: WA\n",
      "Raw Zip: 98039\n",
      "Po Box?: False\n",
      "Grid ID: N6W23001\n",
      "Street Block: \n",
      "Street Number: \n",
      "Street Body: BLUEMOUND\n",
      "Street Suffix: RD\n",
      "Street Directional: \n",
      "Street Suite Number: \n",
      "PO Box Number: \n"
     ]
    }
   ],
   "source": [
    "addr6 = ab.Address('N6W23001 BLUEMOUND RD', 'Seattle', 'WA', '98039')\n",
    "print(addr6)"
   ]
  },
  {
   "cell_type": "code",
   "execution_count": 8,
   "metadata": {},
   "outputs": [
    {
     "name": "stdout",
     "output_type": "stream",
     "text": [
      "Raw Address: 123 N Carolina ST W\n",
      "Raw City: Seattle\n",
      "Raw State: WA\n",
      "Raw Zip: 98039\n",
      "Po Box?: False\n",
      "Grid ID: \n",
      "Street Block: \n",
      "Street Number: 123\n",
      "Street Body: N Carolina\n",
      "Street Suffix: ST\n",
      "Street Directional: W\n",
      "Street Suite Number: \n",
      "PO Box Number: \n"
     ]
    }
   ],
   "source": [
    "addr7 = ab.Address('123 N Carolina ST W', 'Seattle', 'WA', '98039')\n",
    "print(addr7)"
   ]
  },
  {
   "cell_type": "code",
   "execution_count": 9,
   "metadata": {},
   "outputs": [
    {
     "name": "stdout",
     "output_type": "stream",
     "text": [
      "Raw Address: 4568 East Gradine Drive SUITE J15\n",
      "Raw City: Seattle\n",
      "Raw State: WA\n",
      "Raw Zip: 98039\n",
      "Po Box?: False\n",
      "Grid ID: \n",
      "Street Block: \n",
      "Street Number: 4568\n",
      "Street Body: Gradine\n",
      "Street Suffix: DR\n",
      "Street Directional: E\n",
      "Street Suite Number: J15\n",
      "PO Box Number: \n"
     ]
    }
   ],
   "source": [
    "addr8 = ab.Address('4568 East Gradine Drive SUITE J15', 'Seattle', 'WA', '98039')\n",
    "print(addr8)"
   ]
  },
  {
   "cell_type": "code",
   "execution_count": 10,
   "metadata": {},
   "outputs": [
    {
     "data": {
      "text/plain": [
       "{'Match_Status': 'Match',\n",
       " 'Address1_Body_Score': 100.0,\n",
       " 'Address2_Body_Score': 100.0,\n",
       " 'Zip5_Match': True,\n",
       " 'City_Match': True,\n",
       " 'Directional_Match': True,\n",
       " 'Ste_Match': True}"
      ]
     },
     "execution_count": 10,
     "metadata": {},
     "output_type": "execute_result"
    }
   ],
   "source": [
    "c_addr1 = ab.Address('4568 East Gradine Drive SUITE J15', 'Seattle', 'WA', '98039')\n",
    "c_addr2 = ab.Address('4568 E Gradine Dr STE J15', 'Seattle', 'WA', '98039')\n",
    "\n",
    "ab.compare(c_addr1, c_addr2)"
   ]
  },
  {
   "cell_type": "code",
   "execution_count": 19,
   "metadata": {},
   "outputs": [
    {
     "data": {
      "text/plain": [
       "{'Match_Status': 'Match',\n",
       " 'Address1_Body_Score': 100.0,\n",
       " 'Address2_Body_Score': 100.0,\n",
       " 'Zip5_Match': True,\n",
       " 'City_Match': True,\n",
       " 'Directional_Match': True,\n",
       " 'Ste_Match': False}"
      ]
     },
     "execution_count": 19,
     "metadata": {},
     "output_type": "execute_result"
    }
   ],
   "source": [
    "c_addr1 = ab.Address('4568 East Gradine Drive SUITE J15', 'Seattle', 'WA', '98039')\n",
    "c_addr2 = ab.Address('4568 E Gradine Dr', 'Seattle', 'WA', '98039')\n",
    "ab.compare(c_addr1, c_addr2)"
   ]
  },
  {
   "cell_type": "code",
   "execution_count": 18,
   "metadata": {},
   "outputs": [
    {
     "data": {
      "text/plain": [
       "{'Match_Status': 'No Match',\n",
       " 'Address1_Body_Score': 0,\n",
       " 'Address2_Body_Score': 0,\n",
       " 'Zip5_Match': False,\n",
       " 'City_Match': False,\n",
       " 'Directional_Match': False,\n",
       " 'Ste_Match': False}"
      ]
     },
     "execution_count": 18,
     "metadata": {},
     "output_type": "execute_result"
    }
   ],
   "source": [
    "c_addr1 = ab.Address('4568 East Gradine Drive SUITE J15', 'Seattle', 'WA', '98039')\n",
    "c_addr2 = ab.Address('4568 E Gradine Dr STE E5', 'Seattle', 'WA', '98039')\n",
    "ab.compare(c_addr1, c_addr2)"
   ]
  },
  {
   "cell_type": "code",
   "execution_count": null,
   "metadata": {},
   "outputs": [],
   "source": []
  }
 ],
 "metadata": {
  "kernelspec": {
   "display_name": "base",
   "language": "python",
   "name": "python3"
  },
  "language_info": {
   "codemirror_mode": {
    "name": "ipython",
    "version": 3
   },
   "file_extension": ".py",
   "mimetype": "text/x-python",
   "name": "python",
   "nbconvert_exporter": "python",
   "pygments_lexer": "ipython3",
   "version": "3.11.7"
  }
 },
 "nbformat": 4,
 "nbformat_minor": 2
}
